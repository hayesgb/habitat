{
 "cells": [
  {
   "cell_type": "code",
   "execution_count": 121,
   "metadata": {},
   "outputs": [],
   "source": [
    "import pandas as pd\n",
    "import numpy as np\n",
    "import filenames\n",
    "from utilities import utilities"
   ]
  },
  {
   "cell_type": "code",
   "execution_count": 38,
   "metadata": {},
   "outputs": [],
   "source": [
    "df = pd.read_csv(filenames.location_dfile, index_col='id')"
   ]
  },
  {
   "cell_type": "code",
   "execution_count": 40,
   "metadata": {},
   "outputs": [
    {
     "data": {
      "text/html": [
       "<div>\n",
       "<table border=\"1\" class=\"dataframe\">\n",
       "  <thead>\n",
       "    <tr style=\"text-align: right;\">\n",
       "      <th></th>\n",
       "      <th>city_x</th>\n",
       "      <th>state</th>\n",
       "      <th>zip</th>\n",
       "      <th>city_y</th>\n",
       "      <th>state/region</th>\n",
       "      <th>zip code</th>\n",
       "      <th>ip country code</th>\n",
       "    </tr>\n",
       "    <tr>\n",
       "      <th>id</th>\n",
       "      <th></th>\n",
       "      <th></th>\n",
       "      <th></th>\n",
       "      <th></th>\n",
       "      <th></th>\n",
       "      <th></th>\n",
       "      <th></th>\n",
       "    </tr>\n",
       "  </thead>\n",
       "  <tbody>\n",
       "    <tr>\n",
       "      <th>10119098</th>\n",
       "      <td>NaN</td>\n",
       "      <td>NaN</td>\n",
       "      <td>NaN</td>\n",
       "      <td>NaN</td>\n",
       "      <td>NaN</td>\n",
       "      <td>NaN</td>\n",
       "      <td>NaN</td>\n",
       "    </tr>\n",
       "  </tbody>\n",
       "</table>\n",
       "</div>"
      ]
     },
     "output_type": "execute_result",
     "metadata": {}
    }
   ],
   "source": [
    "df[df.index == '10119098']"
   ]
  },
  {
   "cell_type": "code",
   "execution_count": 104,
   "metadata": {},
   "outputs": [
    {
     "data": {
      "text/html": [
       "<div>\n",
       "<table border=\"1\" class=\"dataframe\">\n",
       "  <thead>\n",
       "    <tr style=\"text-align: right;\">\n",
       "      <th></th>\n",
       "      <th>city_x</th>\n",
       "      <th>state</th>\n",
       "      <th>zip</th>\n",
       "      <th>city_y</th>\n",
       "      <th>state/region</th>\n",
       "      <th>zip code</th>\n",
       "      <th>ip country code</th>\n",
       "    </tr>\n",
       "    <tr>\n",
       "      <th>id</th>\n",
       "      <th></th>\n",
       "      <th></th>\n",
       "      <th></th>\n",
       "      <th></th>\n",
       "      <th></th>\n",
       "      <th></th>\n",
       "      <th></th>\n",
       "    </tr>\n",
       "  </thead>\n",
       "  <tbody>\n",
       "    <tr>\n",
       "      <th>10002589</th>\n",
       "      <td>saint paul</td>\n",
       "      <td>mn</td>\n",
       "      <td>55118-1836</td>\n",
       "      <td>saint paul, mn</td>\n",
       "      <td>mn</td>\n",
       "      <td>55118-1836</td>\n",
       "      <td>us</td>\n",
       "    </tr>\n",
       "    <tr>\n",
       "      <th>10002626</th>\n",
       "      <td>naperville</td>\n",
       "      <td>il</td>\n",
       "      <td>60563-2672</td>\n",
       "      <td>naperville, il</td>\n",
       "      <td>NaN</td>\n",
       "      <td>60563-2672</td>\n",
       "      <td>NaN</td>\n",
       "    </tr>\n",
       "    <tr>\n",
       "      <th>10008513</th>\n",
       "      <td>saint paul</td>\n",
       "      <td>mn</td>\n",
       "      <td>55108-1609</td>\n",
       "      <td>st. paul</td>\n",
       "      <td>mn</td>\n",
       "      <td>NaN</td>\n",
       "      <td>us</td>\n",
       "    </tr>\n",
       "    <tr>\n",
       "      <th>10011462</th>\n",
       "      <td>st. paul</td>\n",
       "      <td>mn</td>\n",
       "      <td>55104</td>\n",
       "      <td>saint paul</td>\n",
       "      <td>mn</td>\n",
       "      <td>55104-5763</td>\n",
       "      <td>us</td>\n",
       "    </tr>\n",
       "    <tr>\n",
       "      <th>10018977</th>\n",
       "      <td>minneapolis</td>\n",
       "      <td>mn</td>\n",
       "      <td>55417</td>\n",
       "      <td>NaN</td>\n",
       "      <td>NaN</td>\n",
       "      <td>NaN</td>\n",
       "      <td>NaN</td>\n",
       "    </tr>\n",
       "  </tbody>\n",
       "</table>\n",
       "</div>"
      ]
     },
     "output_type": "execute_result",
     "metadata": {}
    }
   ],
   "source": [
    "df.head()"
   ]
  },
  {
   "cell_type": "code",
   "execution_count": 105,
   "metadata": {},
   "outputs": [
    {
     "data": {
      "text/plain": [
       "city_x             object\n",
       "state              object\n",
       "zip                object\n",
       "city_y             object\n",
       "state/region       object\n",
       "zip code           object\n",
       "ip country code    object\n",
       "dtype: object"
      ]
     },
     "execution_count": 105,
     "output_type": "execute_result",
     "metadata": {}
    }
   ],
   "source": [
    "df.dtypes"
   ]
  },
  {
   "cell_type": "code",
   "execution_count": 25,
   "metadata": {},
   "outputs": [],
   "source": [
    "s = df[['zip', 'zip code', 'city_x', 'city_y']].isnull()"
   ]
  },
  {
   "cell_type": "code",
   "execution_count": 49,
   "metadata": {},
   "outputs": [],
   "source": [
    "locations = pd.DataFrame(index=df.index)"
   ]
  },
  {
   "cell_type": "code",
   "execution_count": 131,
   "metadata": {},
   "outputs": [
    {
     "name": "stdout",
     "output_type": "stream",
     "text": [
      "10002589\n",
      "\n",
      "10002626\n",
      "\n",
      "10008513\n",
      "\n",
      "10011462\n",
      "\n",
      "10018977\n",
      "\n",
      "10028499\n",
      "\n",
      "10029916\n",
      "\n",
      "10030611\n",
      "\n",
      "10032089\n",
      "\n",
      "10035034\n",
      "\n",
      "10035572\n"
     ]
    },
    {
     "ename": "KeyboardInterrupt",
     "evalue": "",
     "output_type": "error",
     "traceback": [
      "\u001b[0;31m---------------------------------------------------------------------------\u001b[0m",
      "\u001b[0;31mKeyboardInterrupt\u001b[0m                         Traceback (most recent call last)",
      "\u001b[0;32m/Users/Greg/anaconda/envs/main/lib/python3.4/site-packages/ipykernel/kernelbase.py\u001b[0m in \u001b[0;36m_input_request\u001b[0;34m(self, prompt, ident, parent, password)\u001b[0m\n\u001b[1;32m    713\u001b[0m             \u001b[0;32mtry\u001b[0m\u001b[0;34m:\u001b[0m\u001b[0;34m\u001b[0m\u001b[0m\n\u001b[0;32m--> 714\u001b[0;31m                 \u001b[0mident\u001b[0m\u001b[0;34m,\u001b[0m \u001b[0mreply\u001b[0m \u001b[0;34m=\u001b[0m \u001b[0mself\u001b[0m\u001b[0;34m.\u001b[0m\u001b[0msession\u001b[0m\u001b[0;34m.\u001b[0m\u001b[0mrecv\u001b[0m\u001b[0;34m(\u001b[0m\u001b[0mself\u001b[0m\u001b[0;34m.\u001b[0m\u001b[0mstdin_socket\u001b[0m\u001b[0;34m,\u001b[0m \u001b[0;36m0\u001b[0m\u001b[0;34m)\u001b[0m\u001b[0;34m\u001b[0m\u001b[0m\n\u001b[0m\u001b[1;32m    715\u001b[0m             \u001b[0;32mexcept\u001b[0m \u001b[0mException\u001b[0m\u001b[0;34m:\u001b[0m\u001b[0;34m\u001b[0m\u001b[0m\n",
      "\u001b[0;32m/Users/Greg/anaconda/envs/main/lib/python3.4/site-packages/jupyter_client/session.py\u001b[0m in \u001b[0;36mrecv\u001b[0;34m(self, socket, mode, content, copy)\u001b[0m\n\u001b[1;32m    738\u001b[0m         \u001b[0;32mtry\u001b[0m\u001b[0;34m:\u001b[0m\u001b[0;34m\u001b[0m\u001b[0m\n\u001b[0;32m--> 739\u001b[0;31m             \u001b[0mmsg_list\u001b[0m \u001b[0;34m=\u001b[0m \u001b[0msocket\u001b[0m\u001b[0;34m.\u001b[0m\u001b[0mrecv_multipart\u001b[0m\u001b[0;34m(\u001b[0m\u001b[0mmode\u001b[0m\u001b[0;34m,\u001b[0m \u001b[0mcopy\u001b[0m\u001b[0;34m=\u001b[0m\u001b[0mcopy\u001b[0m\u001b[0;34m)\u001b[0m\u001b[0;34m\u001b[0m\u001b[0m\n\u001b[0m\u001b[1;32m    740\u001b[0m         \u001b[0;32mexcept\u001b[0m \u001b[0mzmq\u001b[0m\u001b[0;34m.\u001b[0m\u001b[0mZMQError\u001b[0m \u001b[0;32mas\u001b[0m \u001b[0me\u001b[0m\u001b[0;34m:\u001b[0m\u001b[0;34m\u001b[0m\u001b[0m\n",
      "\u001b[0;32m/Users/Greg/anaconda/envs/main/lib/python3.4/site-packages/zmq/sugar/socket.py\u001b[0m in \u001b[0;36mrecv_multipart\u001b[0;34m(self, flags, copy, track)\u001b[0m\n\u001b[1;32m    357\u001b[0m         \"\"\"\n\u001b[0;32m--> 358\u001b[0;31m         \u001b[0mparts\u001b[0m \u001b[0;34m=\u001b[0m \u001b[0;34m[\u001b[0m\u001b[0mself\u001b[0m\u001b[0;34m.\u001b[0m\u001b[0mrecv\u001b[0m\u001b[0;34m(\u001b[0m\u001b[0mflags\u001b[0m\u001b[0;34m,\u001b[0m \u001b[0mcopy\u001b[0m\u001b[0;34m=\u001b[0m\u001b[0mcopy\u001b[0m\u001b[0;34m,\u001b[0m \u001b[0mtrack\u001b[0m\u001b[0;34m=\u001b[0m\u001b[0mtrack\u001b[0m\u001b[0;34m)\u001b[0m\u001b[0;34m]\u001b[0m\u001b[0;34m\u001b[0m\u001b[0m\n\u001b[0m\u001b[1;32m    359\u001b[0m         \u001b[0;31m# have first part already, only loop while more to receive\u001b[0m\u001b[0;34m\u001b[0m\u001b[0;34m\u001b[0m\u001b[0m\n",
      "\u001b[0;32mzmq/backend/cython/socket.pyx\u001b[0m in \u001b[0;36mzmq.backend.cython.socket.Socket.recv (zmq/backend/cython/socket.c:6971)\u001b[0;34m()\u001b[0m\n",
      "\u001b[0;32mzmq/backend/cython/socket.pyx\u001b[0m in \u001b[0;36mzmq.backend.cython.socket.Socket.recv (zmq/backend/cython/socket.c:6763)\u001b[0;34m()\u001b[0m\n",
      "\u001b[0;32mzmq/backend/cython/socket.pyx\u001b[0m in \u001b[0;36mzmq.backend.cython.socket._recv_copy (zmq/backend/cython/socket.c:1931)\u001b[0;34m()\u001b[0m\n",
      "\u001b[0;32m/Users/Greg/anaconda/envs/main/lib/python3.4/site-packages/zmq/backend/cython/checkrc.pxd\u001b[0m in \u001b[0;36mzmq.backend.cython.checkrc._check_rc (zmq/backend/cython/socket.c:7222)\u001b[0;34m()\u001b[0m\n\u001b[1;32m     11\u001b[0m     \u001b[0mcdef\u001b[0m \u001b[0mint\u001b[0m \u001b[0merrno\u001b[0m \u001b[0;34m=\u001b[0m \u001b[0mzmq_errno\u001b[0m\u001b[0;34m(\u001b[0m\u001b[0;34m)\u001b[0m\u001b[0;34m\u001b[0m\u001b[0m\n\u001b[0;32m---> 12\u001b[0;31m     \u001b[0mPyErr_CheckSignals\u001b[0m\u001b[0;34m(\u001b[0m\u001b[0;34m)\u001b[0m\u001b[0;34m\u001b[0m\u001b[0m\n\u001b[0m\u001b[1;32m     13\u001b[0m     \u001b[0;32mif\u001b[0m \u001b[0mrc\u001b[0m \u001b[0;34m==\u001b[0m \u001b[0;34m-\u001b[0m\u001b[0;36m1\u001b[0m\u001b[0;34m:\u001b[0m \u001b[0;31m# if rc < -1, it's a bug in libzmq. Should we warn?\u001b[0m\u001b[0;34m\u001b[0m\u001b[0m\n",
      "\u001b[0;31mKeyboardInterrupt\u001b[0m: ",
      "\nDuring handling of the above exception, another exception occurred:\n",
      "\u001b[0;31mKeyboardInterrupt\u001b[0m                         Traceback (most recent call last)",
      "\u001b[0;32m<ipython-input-131-e19e8da25b5f>\u001b[0m in \u001b[0;36m<module>\u001b[0;34m()\u001b[0m\n\u001b[1;32m      5\u001b[0m \u001b[0;32mfor\u001b[0m \u001b[0midx\u001b[0m \u001b[0;32min\u001b[0m \u001b[0mzips\u001b[0m\u001b[0;34m.\u001b[0m\u001b[0mindex\u001b[0m\u001b[0;34m:\u001b[0m\u001b[0;34m\u001b[0m\u001b[0m\n\u001b[1;32m      6\u001b[0m     \u001b[0mprint\u001b[0m\u001b[0;34m(\u001b[0m\u001b[0midx\u001b[0m\u001b[0;34m)\u001b[0m\u001b[0;34m\u001b[0m\u001b[0m\n\u001b[0;32m----> 7\u001b[0;31m     \u001b[0minput\u001b[0m\u001b[0;34m(\u001b[0m\u001b[0;34m''\u001b[0m\u001b[0;34m)\u001b[0m\u001b[0;34m\u001b[0m\u001b[0m\n\u001b[0m",
      "\u001b[0;32m/Users/Greg/anaconda/envs/main/lib/python3.4/site-packages/ipykernel/kernelbase.py\u001b[0m in \u001b[0;36mraw_input\u001b[0;34m(self, prompt)\u001b[0m\n\u001b[1;32m    687\u001b[0m             \u001b[0mself\u001b[0m\u001b[0;34m.\u001b[0m\u001b[0m_parent_ident\u001b[0m\u001b[0;34m,\u001b[0m\u001b[0;34m\u001b[0m\u001b[0m\n\u001b[1;32m    688\u001b[0m             \u001b[0mself\u001b[0m\u001b[0;34m.\u001b[0m\u001b[0m_parent_header\u001b[0m\u001b[0;34m,\u001b[0m\u001b[0;34m\u001b[0m\u001b[0m\n\u001b[0;32m--> 689\u001b[0;31m             \u001b[0mpassword\u001b[0m\u001b[0;34m=\u001b[0m\u001b[0;32mFalse\u001b[0m\u001b[0;34m,\u001b[0m\u001b[0;34m\u001b[0m\u001b[0m\n\u001b[0m\u001b[1;32m    690\u001b[0m         )\n\u001b[1;32m    691\u001b[0m \u001b[0;34m\u001b[0m\u001b[0m\n",
      "\u001b[0;32m/Users/Greg/anaconda/envs/main/lib/python3.4/site-packages/ipykernel/kernelbase.py\u001b[0m in \u001b[0;36m_input_request\u001b[0;34m(self, prompt, ident, parent, password)\u001b[0m\n\u001b[1;32m    717\u001b[0m             \u001b[0;32mexcept\u001b[0m \u001b[0mKeyboardInterrupt\u001b[0m\u001b[0;34m:\u001b[0m\u001b[0;34m\u001b[0m\u001b[0m\n\u001b[1;32m    718\u001b[0m                 \u001b[0;31m# re-raise KeyboardInterrupt, to truncate traceback\u001b[0m\u001b[0;34m\u001b[0m\u001b[0;34m\u001b[0m\u001b[0m\n\u001b[0;32m--> 719\u001b[0;31m                 \u001b[0;32mraise\u001b[0m \u001b[0mKeyboardInterrupt\u001b[0m\u001b[0;34m\u001b[0m\u001b[0m\n\u001b[0m\u001b[1;32m    720\u001b[0m             \u001b[0;32melse\u001b[0m\u001b[0;34m:\u001b[0m\u001b[0;34m\u001b[0m\u001b[0m\n\u001b[1;32m    721\u001b[0m                 \u001b[0;32mbreak\u001b[0m\u001b[0;34m\u001b[0m\u001b[0m\n",
      "\u001b[0;31mKeyboardInterrupt\u001b[0m: "
     ]
    }
   ],
   "source": [
    "zips = df['zip'].fillna('0')\n",
    "zip_codes = df['zip code'].fillna('0')\n",
    "zips = df['zip'].str.split('-')\n",
    "#zips = utilities.strip_whitespaces_from_lists(zips)\n",
    "for idx in zips.index:\n",
    "    print(idx)\n",
    "    input('')"
   ]
  },
  {
   "cell_type": "code",
   "execution_count": 116,
   "metadata": {},
   "outputs": [
    {
     "data": {
      "text/plain": [
       "id\n",
       "10002589    [55118, 1836]\n",
       "10002626    [60563, 2672]\n",
       "10008513    [55108, 1609]\n",
       "10011462          [55104]\n",
       "10018977          [55417]\n",
       "10028499    [55122, 3511]\n",
       "10029916    [91106, 3816]\n",
       "10030611    [55305, 2046]\n",
       "10032089    [78701, 0031]\n",
       "10035034    [66604, 2522]\n",
       "10035572          [55429]\n",
       "10036666    [65203, 8301]\n",
       "10036856    [55110, 6637]\n",
       "10036871    [55118, 1649]\n",
       "10037218    [55129, 2301]\n",
       "10037350    [55340, 4544]\n",
       "10037367    [55116, 1730]\n",
       "10037400    [54023, 5832]\n",
       "10037562    [24153, 0528]\n",
       "10037994    [55129, 4296]\n",
       "10038171          [54016]\n",
       "10038255    [55124, 7969]\n",
       "10038274    [55125, 2406]\n",
       "10038342    [55126, 8410]\n",
       "10038438          [55125]\n",
       "10038490    [55125, 9330]\n",
       "10038717    [55113, 5436]\n",
       "10038884    [55113, 3877]\n",
       "10039769    [55082, 8388]\n",
       "10039808    [55105, 1716]\n",
       "                ...      \n",
       "10204252    [55407, 2131]\n",
       "10204257    [55386, 9559]\n",
       "10204258    [55369, 3014]\n",
       "10204428          [55121]\n",
       "10204431    [55117, 2498]\n",
       "10204444    [55113, 1942]\n",
       "15504       [55124, 7998]\n",
       "17139       [55423, 4447]\n",
       "21981       [55105, 1045]\n",
       "24605                 NaN\n",
       "28502       [55047, 8721]\n",
       "295               [55101]\n",
       "4280        [55436, 2339]\n",
       "5932        [55122, 1223]\n",
       "9660        [55110, 4330]\n",
       "h0000028          [55122]\n",
       "h0000149    [55411, 1437]\n",
       "h0000395    [55106, 5359]\n",
       "h0000430    [55106, 5359]\n",
       "h0000479    [55434, 2769]\n",
       "h0000498    [55412, 1720]\n",
       "h0000524    [55411, 1344]\n",
       "h0000539    [55125, 1901]\n",
       "h0000609    [55106, 3677]\n",
       "h0000686    [55423, 2606]\n",
       "h0000737          [55103]\n",
       "h0000835    [55129, 6250]\n",
       "h0000912    [55318, 4101]\n",
       "h0000962          [55119]\n",
       "trib113           [55419]\n",
       "Name: zip, dtype: object"
      ]
     },
     "execution_count": 116,
     "output_type": "execute_result",
     "metadata": {}
    }
   ],
   "source": [
    "zips"
   ]
  },
  {
   "cell_type": "code",
   "execution_count": 57,
   "metadata": {},
   "outputs": [],
   "source": [
    "d = dict()\n",
    "d2 = dict()\n",
    "failed_check = []"
   ]
  },
  {
   "cell_type": "code",
   "execution_count": 94,
   "metadata": {},
   "outputs": [
    {
     "data": {
      "text/plain": [
       "pandas.core.series.Series"
      ]
     },
     "execution_count": 94,
     "output_type": "execute_result",
     "metadata": {}
    }
   ],
   "source": [
    "type(zips)"
   ]
  },
  {
   "cell_type": "code",
   "execution_count": 118,
   "metadata": {},
   "outputs": [
    {
     "ename": "TypeError",
     "evalue": "object of type 'numpy.float64' has no len()",
     "output_type": "error",
     "traceback": [
      "\u001b[0;31m---------------------------------------------------------------------------\u001b[0m",
      "\u001b[0;31mTypeError\u001b[0m                                 Traceback (most recent call last)",
      "\u001b[0;32m<ipython-input-118-2481975af656>\u001b[0m in \u001b[0;36m<module>\u001b[0;34m()\u001b[0m\n\u001b[1;32m      5\u001b[0m         \u001b[0md\u001b[0m\u001b[0;34m[\u001b[0m\u001b[0midx\u001b[0m\u001b[0;34m]\u001b[0m \u001b[0;34m=\u001b[0m \u001b[0mzips\u001b[0m\u001b[0;34m[\u001b[0m\u001b[0midx\u001b[0m\u001b[0;34m]\u001b[0m\u001b[0;34m[\u001b[0m\u001b[0;36m0\u001b[0m\u001b[0;34m]\u001b[0m\u001b[0;34m\u001b[0m\u001b[0m\n\u001b[1;32m      6\u001b[0m         \u001b[0md2\u001b[0m\u001b[0;34m[\u001b[0m\u001b[0midx\u001b[0m\u001b[0;34m]\u001b[0m \u001b[0;34m=\u001b[0m \u001b[0mzips\u001b[0m\u001b[0;34m[\u001b[0m\u001b[0midx\u001b[0m\u001b[0;34m]\u001b[0m\u001b[0;34m[\u001b[0m\u001b[0;36m1\u001b[0m\u001b[0;34m]\u001b[0m\u001b[0;34m\u001b[0m\u001b[0m\n\u001b[0;32m----> 7\u001b[0;31m     \u001b[0;32melif\u001b[0m \u001b[0mlen\u001b[0m\u001b[0;34m(\u001b[0m\u001b[0mzip_codes\u001b[0m\u001b[0;34m[\u001b[0m\u001b[0midx\u001b[0m\u001b[0;34m]\u001b[0m\u001b[0;34m)\u001b[0m \u001b[0;34m==\u001b[0m \u001b[0;36m2\u001b[0m\u001b[0;34m:\u001b[0m\u001b[0;34m\u001b[0m\u001b[0m\n\u001b[0m\u001b[1;32m      8\u001b[0m         \u001b[0md\u001b[0m\u001b[0;34m[\u001b[0m\u001b[0midx\u001b[0m\u001b[0;34m]\u001b[0m \u001b[0;34m=\u001b[0m \u001b[0mzip_codes\u001b[0m\u001b[0;34m[\u001b[0m\u001b[0midx\u001b[0m\u001b[0;34m]\u001b[0m\u001b[0;34m[\u001b[0m\u001b[0;36m0\u001b[0m\u001b[0;34m]\u001b[0m\u001b[0;34m\u001b[0m\u001b[0m\n\u001b[1;32m      9\u001b[0m         \u001b[0md2\u001b[0m\u001b[0;34m[\u001b[0m\u001b[0midx\u001b[0m\u001b[0;34m]\u001b[0m \u001b[0;34m=\u001b[0m \u001b[0mzip_codes\u001b[0m\u001b[0;34m[\u001b[0m\u001b[0midx\u001b[0m\u001b[0;34m]\u001b[0m\u001b[0;34m[\u001b[0m\u001b[0;36m1\u001b[0m\u001b[0;34m]\u001b[0m\u001b[0;34m\u001b[0m\u001b[0m\n",
      "\u001b[0;31mTypeError\u001b[0m: object of type 'numpy.float64' has no len()"
     ]
    }
   ],
   "source": [
    "for idx in zips.index.tolist():\n",
    "    \n",
    "    if len(zips[idx]) == 2:\n",
    "        d[idx] = zips[idx][0]\n",
    "        d2[idx] = zips[idx][1]\n",
    "    elif len(zip_codes[idx]) == 2:\n",
    "        d[idx] = zip_codes[idx][0]\n",
    "        d2[idx] = zip_codes[idx][1]\n",
    "    else:\n",
    "        pass"
   ]
  },
  {
   "cell_type": "code",
   "execution_count": 41,
   "metadata": {},
   "outputs": [
    {
     "data": {
      "text/plain": [
       "id\n",
       "10002589    [55118, 1836]\n",
       "10002626    [60563, 2672]\n",
       "10008513    [55108, 1609]\n",
       "10011462          [55104]\n",
       "10018977          [55417]\n",
       "10028499    [55122, 3511]\n",
       "10029916    [91106, 3816]\n",
       "10030611    [55305, 2046]\n",
       "10032089    [78701, 0031]\n",
       "10035034    [66604, 2522]\n",
       "10035572          [55429]\n",
       "10036666    [65203, 8301]\n",
       "10036856    [55110, 6637]\n",
       "10036871    [55118, 1649]\n",
       "10037218    [55129, 2301]\n",
       "10037350    [55340, 4544]\n",
       "10037367    [55116, 1730]\n",
       "10037400    [54023, 5832]\n",
       "10037562    [24153, 0528]\n",
       "10037994    [55129, 4296]\n",
       "10038171          [54016]\n",
       "10038255    [55124, 7969]\n",
       "10038274    [55125, 2406]\n",
       "10038342    [55126, 8410]\n",
       "10038438          [55125]\n",
       "10038490    [55125, 9330]\n",
       "10038717    [55113, 5436]\n",
       "10038884    [55113, 3877]\n",
       "10039769    [55082, 8388]\n",
       "10039808    [55105, 1716]\n",
       "                ...      \n",
       "10204252    [55407, 2131]\n",
       "10204257    [55386, 9559]\n",
       "10204258    [55369, 3014]\n",
       "10204428          [55121]\n",
       "10204431    [55117, 2498]\n",
       "10204444    [55113, 1942]\n",
       "15504       [55124, 7998]\n",
       "17139       [55423, 4447]\n",
       "21981       [55105, 1045]\n",
       "24605                 NaN\n",
       "28502       [55047, 8721]\n",
       "295               [55101]\n",
       "4280        [55436, 2339]\n",
       "5932        [55122, 1223]\n",
       "9660        [55110, 4330]\n",
       "h0000028          [55122]\n",
       "h0000149    [55411, 1437]\n",
       "h0000395    [55106, 5359]\n",
       "h0000430    [55106, 5359]\n",
       "h0000479    [55434, 2769]\n",
       "h0000498    [55412, 1720]\n",
       "h0000524    [55411, 1344]\n",
       "h0000539    [55125, 1901]\n",
       "h0000609    [55106, 3677]\n",
       "h0000686    [55423, 2606]\n",
       "h0000737          [55103]\n",
       "h0000835    [55129, 6250]\n",
       "h0000912    [55318, 4101]\n",
       "h0000962          [55119]\n",
       "trib113           [55419]\n",
       "Name: zip, dtype: object"
      ]
     },
     "execution_count": 41,
     "output_type": "execute_result",
     "metadata": {}
    }
   ],
   "source": [
    "df.zip.str.split('-')"
   ]
  },
  {
   "cell_type": "code",
   "execution_count": 27,
   "metadata": {},
   "outputs": [
    {
     "data": {
      "text/plain": [
       "(array([ 215,  375,  393,  434,  530,  618,  797,  798,  853,  915,  917,\n",
       "         927,  928,  936,  941,  943,  945,  948,  959,  963,  967,  973,\n",
       "         974,  979,  982,  987,  988,  991,  995, 1257, 1283, 1443, 1532,\n",
       "        1808, 1837, 1847, 1848, 1860, 1863, 1869, 1875, 1876, 1880, 1887,\n",
       "        1889, 1890, 1893, 1901, 1905, 1916, 1945, 1946, 1947, 1948, 1949,\n",
       "        1960, 1977, 1984, 1997, 2047, 2048, 2049, 2050, 2051, 2052, 2053,\n",
       "        2054, 2055, 2056, 2057, 2059, 2060, 2061, 2062, 2066, 2067, 2068,\n",
       "        2069, 2070, 2071, 2073, 2074, 2075, 2076, 2077, 2082, 2083, 2086,\n",
       "        2088, 2089, 2090, 2091, 2092, 2103, 2105, 2107, 2108, 2109, 2111,\n",
       "        2112, 2113, 2119, 2122, 2123, 2124, 2125, 2127, 2139, 2140, 2141,\n",
       "        2144, 2146, 2147, 2148, 2149, 2150, 2151, 2152, 2155, 2158, 2272,\n",
       "        2314, 2315, 2316, 2336, 2424, 2701, 2704, 2705, 2857, 2873, 2875,\n",
       "        2876, 2877, 2878, 2880, 2881, 2882, 2884, 2885, 2886, 2887, 2889,\n",
       "        2890, 2895, 2896, 2897, 2899, 2900, 2901, 2903, 2904, 2905, 2906,\n",
       "        2907, 2908, 2910, 2911, 2912, 2913, 2914, 2915, 2916, 2918, 2919,\n",
       "        2924, 2925, 2926, 2928, 2929, 2930, 2931, 2932, 2933, 2938, 2939,\n",
       "        2940, 2943, 2944, 2945, 2946, 2947, 2948, 2949, 2952, 2953, 2954,\n",
       "        2955, 2956, 2957, 2958, 2959, 2960, 2961, 2962, 2963, 2964, 2967,\n",
       "        2968, 2969, 2970, 2971, 2982, 2983, 2984, 2985, 2986, 2988, 2990,\n",
       "        2993, 2996, 2998, 2999, 3001, 3003, 3004, 3005, 3006, 3007, 3008,\n",
       "        3009, 3108, 3188, 3246, 3247, 3288, 3289, 3290, 3291, 3292, 3318,\n",
       "        3319, 3321, 3322, 3323, 3329, 3336, 3338, 3408, 3417, 3489, 3490,\n",
       "        3491, 3493, 3494, 3495, 3496, 3498, 3499, 3500, 3501, 3502, 3507,\n",
       "        3508, 3510, 3511, 3513, 3515, 3517, 3520, 3521, 3522, 3523, 3524,\n",
       "        3527, 3528, 3529, 3530, 3531, 3532, 3534, 3535, 3536, 3537, 3539,\n",
       "        3540, 3541, 3542, 3543, 3545, 3547, 3548, 3549, 3550, 3551, 3552,\n",
       "        3553, 3554, 3555, 3560, 3561, 3614, 3661]),)"
      ]
     },
     "execution_count": 27,
     "output_type": "execute_result",
     "metadata": {}
    }
   ],
   "source": [
    "np.where((s['zip'] == True) & (s['zip code'] == True) & (s['city_x'] == True) &\n",
    "         (s['city_y'] == True))"
   ]
  },
  {
   "cell_type": "code",
   "execution_count": 65,
   "metadata": {},
   "outputs": [
    {
     "data": {
      "text/plain": [
       "zip         True\n",
       "zip code    True\n",
       "Name: 10075597, dtype: bool"
      ]
     },
     "execution_count": 65,
     "output_type": "execute_result",
     "metadata": {}
    }
   ],
   "source": [
    "s.iloc[177,:]"
   ]
  },
  {
   "cell_type": "code",
   "execution_count": null,
   "metadata": {},
   "outputs": [],
   "source": [
    ""
   ]
  }
 ],
 "metadata": {
  "kernelspec": {
   "display_name": "Python 3",
   "language": "python",
   "name": "python3"
  },
  "language_info": {
   "codemirror_mode": {
    "name": "ipython",
    "version": 3.0
   },
   "file_extension": ".py",
   "mimetype": "text/x-python",
   "name": "python",
   "nbconvert_exporter": "python",
   "pygments_lexer": "ipython3",
   "version": "3.4.4"
  }
 },
 "nbformat": 4,
 "nbformat_minor": 0
}